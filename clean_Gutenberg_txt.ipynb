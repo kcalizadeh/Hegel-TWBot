{
 "metadata": {
  "language_info": {
   "codemirror_mode": {
    "name": "ipython",
    "version": 3
   },
   "file_extension": ".py",
   "mimetype": "text/x-python",
   "name": "python",
   "nbconvert_exporter": "python",
   "pygments_lexer": "ipython3",
   "version": "3.6.9-final"
  },
  "orig_nbformat": 2,
  "kernelspec": {
   "name": "learn-env",
   "display_name": "learn-env"
  }
 },
 "nbformat": 4,
 "nbformat_minor": 2,
 "cells": [
  {
   "cell_type": "code",
   "execution_count": 1,
   "metadata": {},
   "outputs": [],
   "source": [
    "import pandas as pd\n",
    "import requests\n",
    "import tweepy\n",
    "import numpy as np\n",
    "from nltk import sent_tokenize\n",
    "\n",
    "\n",
    "def get_Guten(url):\n",
    "    # retrieve the source text\n",
    "    r = requests.get(url)\n",
    "    r.encoding = 'utf-8'\n",
    "    text = r.text\n",
    "    return text\n",
    "\n",
    "def clean_text(text):\n",
    "    # remove line break notation\n",
    "    text = text.replace(\"\\r\\n\", ' ')\n",
    "    # remove abbreviative periods and other unwanted periods and characters\n",
    "    # this helps reduce character count so we get more tweetable quotes\n",
    "    text = text.replace('_', '')\n",
    "    text = text.replace('[', '').replace(']', '')\n",
    "    text = text.replace('e.g.', 'eg')\n",
    "    text = text.replace('i.e.', 'ie')\n",
    "    text = text.replace('etc.', 'etc')\n",
    "    text = text.replace('&c.', '&c')\n",
    "    text = text.replace('viz.', 'viz')\n",
    "    return text\n",
    "\n",
    "def make_into_quotes(text, source):\n",
    "    # make a list of quotes and clean them up\n",
    "    quotes = sent_tokenize(text)\n",
    "    # remove unnecessary spaces\n",
    "    quotes = [x.strip() for x in quotes]\n",
    "    # remove empty quotes\n",
    "    quotes = list(filter(None, quotes))\n",
    "    # cut out very short ones as they often have no real meaning\n",
    "    quotes = [x for x in quotes if len(x) > 15]\n",
    "    # remove the titles of sections & citation-type stuff\n",
    "    quotes = [x for x in quotes if not x.isupper()]\n",
    "    quotes = [x for x in quotes if not x.replace('the', '').replace('of', '').replace('and', '').replace('II', '').istitle()]\n",
    "    quotes = [x for x in quotes if not set('Werke').issubset(x)]\n",
    "    # remove oddities\n",
    "    quotes = [x for x in quotes if x[0].isupper()]\n",
    "    quotes = [x.replace('.', '') for x in quotes]\n",
    "    quotes = [x for x in quotes if not x[-1].isupper()]\n",
    "    # add the source\n",
    "    quotes = [x+'\\n- '+source for x in quotes]\n",
    "    return quotes"
   ]
  },
  {
   "cell_type": "code",
   "execution_count": 66,
   "metadata": {},
   "outputs": [],
   "source": [
    "# import different texts, cut out their front and end matter\n",
    "hop1 = clean_text(get_Guten('http://www.gutenberg.org/files/51635/51635-0.txt'))[10545:-34150]\n",
    "hop2 = clean_text(get_Guten('http://www.gutenberg.org/files/51636/51636-0.txt'))[4489:-42865]\n",
    "hop3 = clean_text(get_Guten('http://www.gutenberg.org/files/58169/58169-0.txt'))[10068:-125524]\n",
    "enc_logic = clean_text(get_Guten('http://www.gutenberg.org/files/55108/55108-0.txt'))[36755:-134712]"
   ]
  },
  {
   "cell_type": "code",
   "execution_count": 67,
   "metadata": {},
   "outputs": [
    {
     "output_type": "execute_result",
     "data": {
      "text/plain": "(['Since the History of Philosophy is to be the subject of these lectures, and to-day I am making my first appearance in this University, I hope you will allow me to say what satisfaction it gives me to take my place once more in an Academy of Learning at this particular time\\n- HoP 1',\n  'For the period seems to have been arrived at when Philosophy may again hope to receive some attention and love—this almost dead science may again raise its voice, and hope that the world which had become deaf to its teaching, may once more lend it an ear\\n- HoP 1',\n  'The necessities of the time have accorded to the petty interests of every-day life such overwhelming attention: the deep interests of actuality and the strife respecting these have engrossed all the powers and the forces of the mind—as also the necessary means—to so great an extent, that no place has been left to the higher inward life, the intellectual operations of a purer sort; and the better natures have thus been stunted in their growth, and in great measure sacrificed\\n- HoP 1',\n  'Because the spirit of the world was thus occupied, it could not look within and withdraw into itself\\n- HoP 1',\n  'But since this stream of actuality is checked, since the German nation has cut its way out of its most material conditions, since its nationality, the basis of all higher life, has been saved, we may hope that, in addition to the State, which has swallowed up all other interests in its own, the Church may now resume her high position—that in addition to the kingdom of the world to which all thoughts and efforts have hitherto been directed; the Kingdom of God may also be considered\\n- HoP 1',\n  'In other words, along with the business of politics and the other interests of every-day life, we may trust that Science, the free rational world of mind, may again flourish\\n- HoP 1',\n  'We have received the higher call of Nature to be the conservers of this holy flame, just as the Eumolpidæ in Athens had the conservation of the Eleusinian mysteries, the inhabitants of the island of Samothrace the preservation and maintenance of a higher divine service; and as, earlier still, the World-spirit reserved to the Jewish nation the highest consciousness that it should once more rise from thence as a new spiritual force\\n- HoP 1',\n  'But the needs of the time and the interests of the events in the world already mentioned, have repressed a real and earnest effort after Philosophy and driven hence any general attention to it\\n- HoP 1',\n  'It has thus happened that because vigorous natures turned to the practical, insipidity and dulness appropriated to themselves the preeminence in Philosophy and flourished there\\n- HoP 1',\n  'It may indeed be said that since Philosophy began to take a place in Germany, it has never looked so badly as at the present time—never have emptiness and shallowness overlaid it so completely, and never have they spoken and acted with such arrogance, as though all power were in their hands!\\n- HoP 1'],\n 17062)"
     },
     "metadata": {},
     "execution_count": 67
    }
   ],
   "source": [
    "# turn these texts into quotes and assemble a list\n",
    "hop1_quotes = make_into_quotes(hop1, 'HoP 1')\n",
    "hop2_quotes = make_into_quotes(hop2, 'HoP 2')\n",
    "hop3_quotes = make_into_quotes(hop3, 'HoP 3')\n",
    "enc_logic_quotes = make_into_quotes(enc_logic, 'EnL')\n",
    "\n",
    "master_q = hop1_quotes + hop2_quotes + hop3_quotes + enc_logic_quotes\n",
    "master_q[0:10], len(master_q)\n"
   ]
  },
  {
   "cell_type": "code",
   "execution_count": 68,
   "metadata": {},
   "outputs": [],
   "source": [
    "# import the existing set of quotes and prepare it for merging\n",
    "old = pd.read_csv('Original_Quote_sheet.csv')\n",
    "old = old.drop('Unnamed: 0', axis=1)\n",
    "old = old.rename(columns={'Select one from each column':'quotes'})\n",
    "old = old.iloc[3:]\n",
    "old['quotes'] = old['quotes'].str.capitalize()"
   ]
  },
  {
   "cell_type": "code",
   "execution_count": 69,
   "metadata": {},
   "outputs": [
    {
     "output_type": "execute_result",
     "data": {
      "text/plain": "(                                              quotes  length\n 3   Logic did not fare quite so badly as metaphysics    48.0\n 4  Even the proofs of the existence of god are ci...   136.0\n 5  The fact is that there no longer exists any in...   121.0\n 6  [kantian philosophy] was a justification from ...   113.0\n 7  There was seen the strange spectacle of a cult...   139.0,\n 13210,\n 17461)"
     },
     "metadata": {},
     "execution_count": 69
    }
   ],
   "source": [
    "# turn the list into a dataframe and weed out untweetabley-long quotes\n",
    "quote_df = pd.DataFrame(master_q, columns=['quotes'])\n",
    "quote_df = old.append(quote_df)\n",
    "quote_df['length'] = quote_df['quotes'].str.len()\n",
    "quote_tweetable = quote_df.loc[quote_df['length'] <= 240].copy()\n",
    "\n",
    "quote_tweetable.head(), len(quote_tweetable), len(quote_df)"
   ]
  },
  {
   "cell_type": "code",
   "execution_count": 70,
   "metadata": {},
   "outputs": [],
   "source": [
    "# export csv for use by tweeter program\n",
    "quote_tweetable.to_csv('Quote List.csv')"
   ]
  },
  {
   "cell_type": "code",
   "execution_count": null,
   "metadata": {},
   "outputs": [],
   "source": []
  },
  {
   "cell_type": "code",
   "execution_count": 62,
   "metadata": {},
   "outputs": [
    {
     "output_type": "execute_result",
     "data": {
      "text/plain": "42865"
     },
     "metadata": {},
     "execution_count": 62
    }
   ],
   "source": [
    "2850 + 40015\n"
   ]
  },
  {
   "cell_type": "code",
   "execution_count": 65,
   "metadata": {},
   "outputs": [
    {
     "output_type": "execute_result",
     "data": {
      "text/plain": "'spirit. The revelation of God has not come to it as from an alien source. What we here consider so dry and abstract is concrete. “Such rubbish,” it is said, “as we consider when in our study we see philosophers dispute and argue, and settle things this way and that at will, are verbal abstractions only.” No, no; they are the deeds of the world-spirit, gentlemen, and therefore of fate. The philosophers are in so doing nearer to God than those nurtured upon spiritual crumbs; they read or write the orders as they receive them in the original; they are obliged to continue writing on. Philosophers are the initiated ones—those who have taken part in the advance which has been made into the inmost sanctuary; others have their particular interests—this dominion, these riches, this girl. Hundreds and thousands of years are required by the world-spirit to reach the point which we attain more quickly, because we have the advantage of having objects which are past and of dealing with abstraction.'"
     },
     "metadata": {},
     "execution_count": 65
    }
   ],
   "source": [
    "hop2[-1000:-1]"
   ]
  },
  {
   "cell_type": "code",
   "execution_count": null,
   "metadata": {},
   "outputs": [],
   "source": [
    "hop1 = get_and_clean_Guten2('http://www.gutenberg.org/files/51635/51635-0.txt')[10520:-32300]\n",
    "hop2 = get_and_clean_Guten2('http://www.gutenberg.org/files/51636/51636-0.txt')[4469:-40015]\n",
    "hop3 = get_and_clean_Guten2('http://www.gutenberg.org/files/58169/58169-0.txt')[10056:-119754]\n",
    "\n",
    "hop1_quotes = make_into_quotes2(hop1, 'HoP 1')\n",
    "hop2_quotes = make_into_quotes2(hop2, 'HoP 2')\n",
    "hop3_quotes = make_into_quotes2(hop3, 'HoP 3')\n",
    "\n",
    "master_q = hop1_quotes + hop2_quotes + hop3_quotes\n",
    "master_q[0:10], len(master_q)"
   ]
  },
  {
   "cell_type": "code",
   "execution_count": null,
   "metadata": {},
   "outputs": [],
   "source": [
    "hop1_quotes[-30:-1]"
   ]
  },
  {
   "cell_type": "code",
   "execution_count": null,
   "metadata": {},
   "outputs": [],
   "source": [
    "hop2_quotes[0:20]"
   ]
  },
  {
   "cell_type": "code",
   "execution_count": null,
   "metadata": {},
   "outputs": [],
   "source": [
    "hop3_quotes[0:20]"
   ]
  },
  {
   "cell_type": "code",
   "execution_count": null,
   "metadata": {},
   "outputs": [],
   "source": []
  },
  {
   "cell_type": "code",
   "execution_count": null,
   "metadata": {},
   "outputs": [],
   "source": []
  },
  {
   "cell_type": "code",
   "execution_count": null,
   "metadata": {},
   "outputs": [],
   "source": []
  },
  {
   "cell_type": "code",
   "execution_count": null,
   "metadata": {},
   "outputs": [],
   "source": []
  },
  {
   "cell_type": "code",
   "execution_count": null,
   "metadata": {},
   "outputs": [],
   "source": []
  },
  {
   "cell_type": "code",
   "execution_count": null,
   "metadata": {},
   "outputs": [],
   "source": []
  },
  {
   "cell_type": "code",
   "execution_count": null,
   "metadata": {},
   "outputs": [],
   "source": [
    "r = requests.get('http://www.gutenberg.org/files/55334/55334-0.txt')\n",
    "r.encoding = 'utf-8'\n",
    "opening = r.text[0:5000]\n",
    "sent_tokenize(opening)\n"
   ]
  },
  {
   "cell_type": "code",
   "execution_count": null,
   "metadata": {},
   "outputs": [],
   "source": [
    "def get_and_clean_Guten2(url):\n",
    "    # retrieve the source text\n",
    "    r = requests.get(url)\n",
    "    r.encoding = 'utf-8'\n",
    "    text = r.text\n",
    "    text = text.replace(\"\\r\\n\", ' ')\n",
    "    # remove unicode characters and other unnecessaries\n",
    "    # text = text.replace('â\\x80\\x9d', ' ')\n",
    "    # text = text.replace('â\\x80\\x94', '-')\n",
    "    # text = text.replace('â\\x80\\x9c', '')\n",
    "    # text = text.replace('â\\x80\\x99', '')\n",
    "    # text = text.replace('â\\x80\\x98', '')\n",
    "    # text = text.replace('\\x86', '')\n",
    "    # text = text.replace('Å\\x93', '')\n",
    "    # remove abbreviative periods and other unwanted periods and characters\n",
    "    # text = re.sub(r\".(?=[^)(]*\\))\", \"\", text)\n",
    "    text = text.replace('_', '')\n",
    "    text = text.replace('[', '').replace(']', '')\n",
    "    text = text.replace('e.g.', 'eg')\n",
    "    text = text.replace('i.e.', 'ie')\n",
    "    text = text.replace('etc.', 'etc')\n",
    "    text = text.replace('&c.', '&c')\n",
    "    text = text.replace('viz.', 'viz')\n",
    "    #text = text.replace('(', '').replace(')', '')\n",
    "    return text"
   ]
  },
  {
   "cell_type": "code",
   "execution_count": 63,
   "metadata": {},
   "outputs": [],
   "source": [
    "def make_into_quotes2(text, source):\n",
    "    # make a list of quotes and clean them up\n",
    "    quotes = sent_tokenize(text)\n",
    "    # remove unnecessary spaces\n",
    "    quotes = [x.strip() for x in quotes]\n",
    "    # remove empty quotes\n",
    "    quotes = list(filter(None, quotes))\n",
    "    # cut out very short ones as they often have no real meaning\n",
    "    quotes = [x for x in quotes if len(x) > 15]\n",
    "    # remove the titles of sections & citation-type stuff\n",
    "    quotes = [x for x in quotes if not x.isupper()]\n",
    "    quotes = [x for x in quotes if not x.replace('the', '').replace('of', '').replace('and', '').replace('II', '').istitle()]\n",
    "    quotes = [x for x in quotes if not set('Werke').issubset(x)]\n",
    "    # remove oddities\n",
    "    quotes = [x for x in quotes if x[0].isupper()]\n",
    "    quotes = [x.replace('.', '') for x in quotes]\n",
    "    quotes = [x for x in quotes if not x[-1].isupper()]\n",
    "    # add the source\n",
    "    quotes = [x+'\\n- '+source for x in quotes]\n",
    "    return quotes"
   ]
  },
  {
   "cell_type": "code",
   "execution_count": 47,
   "metadata": {},
   "outputs": [],
   "source": [
    "enc_logic1 = get_and_clean_Guten2('http://www.gutenberg.org/files/55108/55108-0.txt')[36673:-133982]"
   ]
  },
  {
   "cell_type": "code",
   "execution_count": 48,
   "metadata": {},
   "outputs": [],
   "source": [
    "enl_quotes1 = make_into_quotes2(enc_logic1, 'EnL')"
   ]
  },
  {
   "cell_type": "code",
   "execution_count": 49,
   "metadata": {},
   "outputs": [],
   "source": [
    "enc_logic = get_and_clean_Guten('http://www.gutenberg.org/files/55108/55108-0.txt')[36673:-133982]\n",
    "enc_logic = make_into_quotes(enc_logic, 'EnL')"
   ]
  },
  {
   "cell_type": "code",
   "execution_count": 51,
   "metadata": {
    "tags": []
   },
   "outputs": [
    {
     "output_type": "execute_result",
     "data": {
      "text/plain": "(4346, 4386)"
     },
     "metadata": {},
     "execution_count": 51
    }
   ],
   "source": [
    "len(enc_logic), len(enl_quotes1)"
   ]
  },
  {
   "cell_type": "code",
   "execution_count": 57,
   "metadata": {},
   "outputs": [
    {
     "output_type": "execute_result",
     "data": {
      "text/plain": "['This life which has returned to itself from the bias and finitude of cognition, and which by the activity of the notion has become identical with it, is the Speculative or Absolute Idea\\n- EnL',\n 'The Idea, as unity of the Subjective and Objective Idea, is the notion of the Idea,--a notion whose object  is the Idea as such, and for which the objective  is Idea,--an Object which embraces all characteristics in its unity\\n- EnL',\n 'This unity is consequently I the absolute and all truth, the Idea which thinks itself,--and here at least as a thinking or Logical Idea\\n- EnL',\n 'In cognition we had the idea in a biassed, one-sided shape\\n- EnL',\n 'The process of cognition has issued in the overthrow of this bias and the restoration of that unity, which as unity, and in its immediacy, is in the first instance the Idea of Life\\n- EnL',\n 'The defect of life lies in its being only the idea implicit or natural: whereas cognition is in an equally one-sided way the merely conscious idea, or the idea for itself\\n- EnL',\n 'The unity and truth of these two is the Absolute Idea, which is both in itself and for itself\\n- EnL',\n 'Hitherto we have had the idea in development through its various grades as our object, but now the idea comes to be its own object\\n- EnL',\n 'This is the νόησις νοήσεως which Aristotle long ago termed the supreme form of the idea\\n- EnL',\n 'Seeing that there is in it no transition, or presupposition, and in general no specific character other than what is fluid and transparent, the Absolute Idea is for itself the pure form of the notion, which contemplates its content as its own self\\n- EnL',\n 'It is its own content, in so far as it ideally distinguishes itself from itself, and the one of the two things distinguished is a self-identity in which however is contained the totality of the form as the system of terms describing its content\\n- EnL',\n 'This content is the system of Logic\\n- EnL',\n \"All that is at this stage left as form for the idea is the Method of this content,--the specific consciousness of the value and currency of the 'moments' in its development\\n- EnL\",\n 'It is certainly possible to indulge in a vast amount of senseless declamation about the idea absolute\\n- EnL',\n 'But its true content is only the whole system of which we have been hitherto studying the development\\n- EnL',\n 'It may also be said in this strain that the absolute idea is the universal, but the universal not merely as an abstract form to which the particular content is a stranger, but as the absolute form, into which all the categories, the whole fullness of the content it has given being to, have retired\\n- EnL',\n 'The absolute idea may in this respect be compared to the old man who utters the same creed as the child, but for whom it is pregnant with the significance of a lifetime\\n- EnL',\n 'Even if the child understands the truths of religion, he cannot but imagine them to be something outside of which lies the whole of life and the whole of the world\\n- EnL',\n 'The same may be said to be the case with human life as a whole and the occurrences with which it is fraught\\n- EnL']"
     },
     "metadata": {},
     "execution_count": 57
    }
   ],
   "source": [
    "enc_logic[-20:-1]"
   ]
  },
  {
   "cell_type": "code",
   "execution_count": 62,
   "metadata": {},
   "outputs": [
    {
     "output_type": "execute_result",
     "data": {
      "text/plain": "['This is the right attitude of rational cognition\\n- EnL',\n 'Nullity and transitoriness constitute only the superficial features and not the real essence of the world\\n- EnL',\n 'That essence is the notion in posse and in esse: and thus the world is itself the idea\\n- EnL',\n 'All unsatisfied endeavour ceases, when we recognise that the final purpose of the world is accomplished no less than ever accomplishing itself\\n- EnL',\n \"Generally speaking, this is the man's way of looking; while the young imagine that the world is utterly sunk in wickedness, and that the first thing needful is a thorough transformation\\n- EnL\",\n 'The religious mind, on the contrary, views the world as ruled by Divine Providence, and therefore correspondent with what it ought to be\\n- EnL',\n \"But this harmony between the 'is' and the 'ought to be' is not torpid and rigidly stationary\\n- EnL\",\n 'Good, the final end of the world, has being, only while it constantly produces itself\\n- EnL',\n 'And the world of spirit and the world of nature continue to have this distinction, that the latter moves only in a recurring cycle, while the former certainly also makes progress\\n- EnL',\n 'Thus the truth of the Good is laid down as the unity of the theoretical and practical idea in the doctrine that the Good is radically and really achieved, that the objective world is in itself and for itself the Idea, just as it at the same time eternally lays itself down as End, and by action brings about its actuality\\n- EnL',\n 'This life which has returned to itself from the bias and finitude of cognition, and which by the activity of the notion has become identical with it, is the Speculative or Absolute Idea\\n- EnL',\n 'The Idea, as unity of the Subjective and Objective Idea, is the notion of the Idea,--a notion whose object (Gegenstand) is the Idea as such, and for which the objective (Objekt) is Idea,--an Object which embraces all characteristics in its unity\\n- EnL',\n 'This unity is consequently I the absolute and all truth, the Idea which thinks itself,--and here at least as a thinking or Logical Idea\\n- EnL',\n 'In cognition we had the idea in a biassed, one-sided shape\\n- EnL',\n 'The process of cognition has issued in the overthrow of this bias and the restoration of that unity, which as unity, and in its immediacy, is in the first instance the Idea of Life\\n- EnL',\n 'The defect of life lies in its being only the idea implicit or natural: whereas cognition is in an equally one-sided way the merely conscious idea, or the idea for itself\\n- EnL',\n 'The unity and truth of these two is the Absolute Idea, which is both in itself and for itself\\n- EnL',\n 'Hitherto we have had the idea in development through its various grades as our object, but now the idea comes to be its own object\\n- EnL',\n 'This is the νόησις νοήσεως which Aristotle long ago termed the supreme form of the idea\\n- EnL',\n 'Seeing that there is in it no transition, or presupposition, and in general no specific character other than what is fluid and transparent, the Absolute Idea is for itself the pure form of the notion, which contemplates its content as its own self\\n- EnL',\n 'It is its own content, in so far as it ideally distinguishes itself from itself, and the one of the two things distinguished is a self-identity in which however is contained the totality of the form as the system of terms describing its content\\n- EnL',\n 'This content is the system of Logic\\n- EnL',\n \"All that is at this stage left as form for the idea is the Method of this content,--the specific consciousness of the value and currency of the 'moments' in its development\\n- EnL\",\n 'It is certainly possible to indulge in a vast amount of senseless declamation about the idea absolute\\n- EnL',\n 'But its true content is only the whole system of which we have been hitherto studying the development\\n- EnL',\n 'It may also be said in this strain that the absolute idea is the universal, but the universal not merely as an abstract form to which the particular content is a stranger, but as the absolute form, into which all the categories, the whole fullness of the content it has given being to, have retired\\n- EnL',\n 'The absolute idea may in this respect be compared to the old man who utters the same creed as the child, but for whom it is pregnant with the significance of a lifetime\\n- EnL',\n 'Even if the child understands the truths of religion, he cannot but imagine them to be something outside of which lies the whole of life and the whole of the world\\n- EnL',\n 'The same may be said to be the case with human life as a whole and the occurrences with which it is fraught\\n- EnL',\n 'All work is directed only to the aim or end; and when it is attained, people are surprised to find nothing else but just the very thing which they had wished for\\n- EnL']"
     },
     "metadata": {},
     "execution_count": 62
    }
   ],
   "source": [
    "enl_quotes1[-80:-50]"
   ]
  },
  {
   "cell_type": "code",
   "execution_count": null,
   "metadata": {},
   "outputs": [],
   "source": []
  },
  {
   "cell_type": "code",
   "execution_count": null,
   "metadata": {},
   "outputs": [],
   "source": []
  },
  {
   "cell_type": "code",
   "execution_count": null,
   "metadata": {},
   "outputs": [],
   "source": []
  },
  {
   "cell_type": "code",
   "execution_count": null,
   "metadata": {
    "tags": []
   },
   "outputs": [],
   "source": []
  },
  {
   "cell_type": "code",
   "execution_count": null,
   "metadata": {},
   "outputs": [],
   "source": [
    "\n"
   ]
  },
  {
   "cell_type": "code",
   "execution_count": null,
   "metadata": {
    "tags": []
   },
   "outputs": [],
   "source": []
  },
  {
   "cell_type": "code",
   "execution_count": null,
   "metadata": {},
   "outputs": [],
   "source": []
  },
  {
   "cell_type": "code",
   "execution_count": null,
   "metadata": {},
   "outputs": [],
   "source": []
  }
 ]
}