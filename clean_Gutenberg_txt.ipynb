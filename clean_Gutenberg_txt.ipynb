{
 "metadata": {
  "language_info": {
   "codemirror_mode": {
    "name": "ipython",
    "version": 3
   },
   "file_extension": ".py",
   "mimetype": "text/x-python",
   "name": "python",
   "nbconvert_exporter": "python",
   "pygments_lexer": "ipython3",
   "version": "3.6.9-final"
  },
  "orig_nbformat": 2,
  "kernelspec": {
   "name": "learn-env",
   "display_name": "learn-env"
  }
 },
 "nbformat": 4,
 "nbformat_minor": 2,
 "cells": [
  {
   "cell_type": "code",
   "execution_count": 1,
   "metadata": {},
   "outputs": [],
   "source": [
    "import pandas as pd\n",
    "import requests\n",
    "import tweepy\n",
    "import numpy as np\n",
    "import re\n",
    "\n",
    "bad_char_list = ['1', '2', '3', '4', '5', '6', '7', '8', '9,' '0', '-', ',']\n",
    "\n",
    "# this function looks at quotes and eliminates opening characters we don't want, returns a list of cleaned quotes\n",
    "def remove_bad_starts(quotes):\n",
    "    new_quotes = []\n",
    "    for quote in quotes:\n",
    "        if quote[0] in bad_char_list:\n",
    "            if quote[1] in bad_char_list:\n",
    "                new_quotes.append(quote[3:].strip())\n",
    "                continue\n",
    "            new_quotes.append(quote[2:].strip())\n",
    "            continue\n",
    "        new_quotes.append(quote)\n",
    "    return new_quotes\n",
    "\n",
    "def get_and_clean_Guten(url):\n",
    "    # retrieve the source text\n",
    "    r = requests.get(url)\n",
    "    text = r.text\n",
    "    text = text.replace(\"\\r\\n\", ' ')\n",
    "    # remove unicode characters and other unnecessaries\n",
    "    text = text.replace('â\\x80\\x9d', ' ')\n",
    "    text = text.replace('â\\x80\\x94', '-')\n",
    "    text = text.replace('â\\x80\\x9c', '')\n",
    "    text = text.replace('â\\x80\\x99', '')\n",
    "    text = text.replace('â\\x80\\x98', '')\n",
    "    text = text.replace('\\x86', '')\n",
    "    text = text.replace('Å\\x93', '')\n",
    "    # remove abbreviative periods and other unwanted periods and characters\n",
    "    text = re.sub(r\".(?=[^)(]*\\))\", \"\", text)\n",
    "    text = text.replace('_', '')\n",
    "    text = text.replace('[', '').replace(']', '')\n",
    "    text = text.replace('e.g.', 'eg')\n",
    "    text = text.replace('i.e.', 'ie')\n",
    "    text = text.replace('etc.', 'etc')\n",
    "    text = text.replace('&c.', '&c')\n",
    "    text = text.replace('viz.', 'viz')\n",
    "    text = text.replace('(', '').replace(')', '')\n",
    "    return text\n",
    "\n",
    "def make_into_quotes(text, source):\n",
    "    # make a list of quotes and clean them up\n",
    "    quotes = text.split('.')\n",
    "    # remove unnecessary spaces\n",
    "    quotes = [x.strip() for x in quotes]\n",
    "    # remove empty quotes\n",
    "    quotes = list(filter(None, quotes))\n",
    "    # cut out very short ones\n",
    "    quotes = [x for x in quotes if len(x) > 15]\n",
    "    # remove the titles of sections\n",
    "    quotes = [x for x in quotes if not x.isupper()]\n",
    "    quotes = [x for x in quotes if not x.replace('the', '').replace('of', '').replace('and', '').istitle()]\n",
    "    # remove oddities\n",
    "    quotes = remove_bad_starts(quotes)\n",
    "    quotes = [x for x in quotes if x[0].isupper()]\n",
    "    quotes = [x for x in quotes if x[-1] not in bad_char_list]\n",
    "\n",
    "    # add the source\n",
    "    quotes = [x+'. \\n- '+source for x in quotes]\n",
    "\n",
    "    return quotes"
   ]
  },
  {
   "cell_type": "code",
   "execution_count": 36,
   "metadata": {},
   "outputs": [],
   "source": [
    "# import different texts, cut out their front and end matter\n",
    "hop1 = get_and_clean_Guten('http://www.gutenberg.org/files/51635/51635-0.txt')[10520:-32300]\n",
    "hop2 = get_and_clean_Guten('http://www.gutenberg.org/files/51636/51636-0.txt')[4469:-40015]\n",
    "hop3 = get_and_clean_Guten('http://www.gutenberg.org/files/58169/58169-0.txt')[10056:-119754]"
   ]
  },
  {
   "cell_type": "code",
   "execution_count": 37,
   "metadata": {},
   "outputs": [
    {
     "output_type": "execute_result",
     "data": {
      "text/plain": "(['Since the History of Philosophy is to be the subject of these lectures, and to-day I am making my first appearance in this University, I hope you will allow me to say what satisfaction it gives me to take my place once more in an Academy of Learning at this particular time. \\n - HoP 1',\n  'For the period seems to have been arrived at when Philosophy may again hope to receive some attention and love-this almost dead science may again raise its voice, and hope that the world which had become deaf to its teaching, may once more lend it an ear. \\n - HoP 1',\n  'The necessities of the time have accorded to the petty interests of every-day life such overwhelming attention: the deep interests of actuality and the strife respecting these have engrossed all the powers and the forces of the mind-as also the necessary means-to so great an extent, that no place has been left to the higher inward life, the intellectual operations of a purer sort; and the better natures have thus been stunted in their growth, and in great measure sacrificed. \\n - HoP 1',\n  'Because the spirit of the world was thus occupied, it could not look within and withdraw into itself. \\n - HoP 1',\n  'But since this stream of actuality is checked, since the German nation has cut its way out of its most material conditions, since its nationality, the basis of all higher life, has been saved, we may hope that, in addition to the State, which has swallowed up all other interests in its own, the Church may now resume her high position-that in addition to the kingdom of the world to which all thoughts and efforts have hitherto been directed; the Kingdom of God may also be considered. \\n - HoP 1',\n  'In other words, along with the business of politics and the other interests of every-day life, we may trust that Science, the free rational world of mind, may again flourish. \\n - HoP 1',\n  'We shall see in the History of Philosophy that in other European countries in which the sciences and the cultivation of the understanding have been prosecuted with zeal and with respect, Philosophy, excepting in name, has sunk even from memory, and that it is in the German nation that it has been retained as a peculiar possession. \\n - HoP 1',\n  'We have received the higher call of Nature to be the conservers of this holy flame, just as the EumolpidÃ¦ in Athens had the conservation of the Eleusinian mysteries, the inhabitants of the island of Samothrace the preservation and maintenance of a higher divine service; and as, earlier still, the World-spirit reserved to the Jewish nation the highest consciousness that it should once more rise from thence as a new spiritual force. \\n - HoP 1',\n  'We have already got so far, and have attained to a seriousness so much greater and a consciousness so much deeper, that for us ideas and that which our reason justifies, can alone have weight; to speak more plainly, the Prussian State is a State constituted on principles of intelligence. \\n - HoP 1',\n  'But the needs of the time and the interests of the events in the world already mentioned, have repressed a real and earnest effort after Philosophy and driven hence any general attention to it. \\n - HoP 1'],\n 15180)"
     },
     "metadata": {},
     "execution_count": 37
    }
   ],
   "source": [
    "# turn these texts into quotes and assemble a list\n",
    "hop1_quotes = make_into_quotes(hop1, 'HoP 1')\n",
    "hop2_quotes = make_into_quotes(hop2, 'HoP 2')\n",
    "hop3_quotes = make_into_quotes(hop3, 'HoP 3')\n",
    "\n",
    "master_q = hop1_quotes + hop2_quotes + hop3_quotes\n",
    "master_q[0:10], len(master_q)\n"
   ]
  },
  {
   "cell_type": "code",
   "execution_count": 3,
   "metadata": {},
   "outputs": [
    {
     "output_type": "execute_result",
     "data": {
      "text/plain": "                                              quotes\n3   Logic did not fare quite so badly as metaphysics\n4  Even the proofs of the existence of god are ci...\n5  The fact is that there no longer exists any in...\n6  [kantian philosophy] was a justification from ...\n7  There was seen the strange spectacle of a cult...",
      "text/html": "<div>\n<style scoped>\n    .dataframe tbody tr th:only-of-type {\n        vertical-align: middle;\n    }\n\n    .dataframe tbody tr th {\n        vertical-align: top;\n    }\n\n    .dataframe thead th {\n        text-align: right;\n    }\n</style>\n<table border=\"1\" class=\"dataframe\">\n  <thead>\n    <tr style=\"text-align: right;\">\n      <th></th>\n      <th>quotes</th>\n    </tr>\n  </thead>\n  <tbody>\n    <tr>\n      <th>3</th>\n      <td>Logic did not fare quite so badly as metaphysics</td>\n    </tr>\n    <tr>\n      <th>4</th>\n      <td>Even the proofs of the existence of god are ci...</td>\n    </tr>\n    <tr>\n      <th>5</th>\n      <td>The fact is that there no longer exists any in...</td>\n    </tr>\n    <tr>\n      <th>6</th>\n      <td>[kantian philosophy] was a justification from ...</td>\n    </tr>\n    <tr>\n      <th>7</th>\n      <td>There was seen the strange spectacle of a cult...</td>\n    </tr>\n  </tbody>\n</table>\n</div>"
     },
     "metadata": {},
     "execution_count": 3
    }
   ],
   "source": [
    "# import the existing set of quotes and prepare it for merging\n",
    "old = pd.read_csv('Original_Quote_sheet.csv')\n",
    "old = old.drop('Unnamed: 0', axis=1)\n",
    "old = old.rename(columns={'Select one from each column':'quotes'})\n",
    "old = old.iloc[3:]\n",
    "old['quotes'] = old['quotes'].str.capitalize()"
   ]
  },
  {
   "cell_type": "code",
   "execution_count": 39,
   "metadata": {},
   "outputs": [
    {
     "output_type": "execute_result",
     "data": {
      "text/plain": "(                                              quotes  length\n 3   Logic did not fare quite so badly as metaphysics    48.0\n 4  Even the proofs of the existence of god are ci...   136.0\n 5  The fact is that there no longer exists any in...   121.0\n 6  [kantian philosophy] was a justification from ...   113.0\n 7  There was seen the strange spectacle of a cult...   139.0,\n 11704,\n 15579)"
     },
     "metadata": {},
     "execution_count": 39
    }
   ],
   "source": [
    "# turn the list into a dataframe and weed out untweetabley-long quotes\n",
    "quote_df = pd.DataFrame(master_q, columns=['quotes'])\n",
    "quote_df = old.append(quote_df)\n",
    "quote_df['length'] = quote_df['quotes'].str.len()\n",
    "quote_tweetable = quote_df.loc[quote_df['length'] <= 240].copy()\n",
    "\n",
    "quote_tweetable.head(), len(quote_tweetable), len(quote_df)"
   ]
  },
  {
   "cell_type": "code",
   "execution_count": 6,
   "metadata": {},
   "outputs": [],
   "source": [
    "# export csv for use by tweeter program\n",
    "quote_tweetable.to_csv('Quote List.csv')"
   ]
  },
  {
   "cell_type": "code",
   "execution_count": null,
   "metadata": {},
   "outputs": [],
   "source": []
  },
  {
   "cell_type": "code",
   "execution_count": null,
   "metadata": {},
   "outputs": [],
   "source": []
  },
  {
   "cell_type": "code",
   "execution_count": 25,
   "metadata": {},
   "outputs": [
    {
     "output_type": "execute_result",
     "data": {
      "text/plain": "'Thus he at first  proceeds from this point to movement , and says that it is essential that a philosophy of nature should speak of it, but that it is difficult to grasp; in fact, it is one of the most difficult conceptions. \\n - HoP 2'"
     },
     "metadata": {},
     "execution_count": 25
    }
   ],
   "source": [
    "\n",
    "rand = np.random.randint(0, len(quote_df))\n",
    "rand_quote = quote_df.iloc[rand]['quotes']"
   ]
  },
  {
   "cell_type": "code",
   "execution_count": 38,
   "metadata": {},
   "outputs": [
    {
     "output_type": "execute_result",
     "data": {
      "text/plain": "40"
     },
     "metadata": {},
     "execution_count": 38
    }
   ],
   "source": [
    "len(list(quote_df['quotes'].loc[quote_df['quotes'].str.contains('viz', na=True)]))"
   ]
  },
  {
   "cell_type": "code",
   "execution_count": 28,
   "metadata": {
    "tags": []
   },
   "outputs": [
    {
     "output_type": "stream",
     "name": "stdout",
     "text": "<class 'pandas.core.frame.DataFrame'>\nInt64Index: 15584 entries, 3 to 15184\nData columns (total 2 columns):\n #   Column  Non-Null Count  Dtype  \n---  ------  --------------  -----  \n 0   quotes  15583 non-null  object \n 1   length  15583 non-null  float64\ndtypes: float64(1), object(1)\nmemory usage: 1005.2+ KB\n"
    }
   ],
   "source": [
    "quote_df.info()"
   ]
  },
  {
   "cell_type": "code",
   "execution_count": null,
   "metadata": {},
   "outputs": [],
   "source": []
  }
 ]
}
