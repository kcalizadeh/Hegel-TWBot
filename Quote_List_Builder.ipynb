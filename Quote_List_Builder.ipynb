{
 "metadata": {
  "language_info": {
   "codemirror_mode": {
    "name": "ipython",
    "version": 3
   },
   "file_extension": ".py",
   "mimetype": "text/x-python",
   "name": "python",
   "nbconvert_exporter": "python",
   "pygments_lexer": "ipython3",
   "version": "3.6.9-final"
  },
  "orig_nbformat": 2,
  "kernelspec": {
   "name": "learn-env",
   "display_name": "learn-env"
  }
 },
 "nbformat": 4,
 "nbformat_minor": 2,
 "cells": [
  {
   "cell_type": "code",
   "execution_count": 1,
   "metadata": {},
   "outputs": [],
   "source": [
    "import pandas as pd\n",
    "import requests\n",
    "import tweepy\n",
    "import numpy as np\n",
    "from nltk import sent_tokenize\n",
    "import re\n",
    "import json\n",
    "\n",
    "\n",
    "def get_Guten(url):\n",
    "    # retrieve the source text\n",
    "    r = requests.get(url)\n",
    "    r.encoding = 'utf-8'\n",
    "    text = r.text\n",
    "    return text\n",
    "\n",
    "def get_text(path):\n",
    "    f = open(path, 'r')\n",
    "    text = f.read()\n",
    "    f.close()\n",
    "    return text\n",
    "\n",
    "def clean_text(text):\n",
    "    with open(\"data/replace_chars.json\") as f:\n",
    "        replace_these = json.load(f)\n",
    "        for k in replace_these.keys():\n",
    "            text = text.replace(k, replace_these[k])\n",
    "    return text\n",
    "\n",
    "def make_into_quotes_guten(text, source):\n",
    "    # make a list of quotes and clean them up\n",
    "    quotes = sent_tokenize(text)\n",
    "    # remove unnecessary spaces\n",
    "    quotes = [x.strip() for x in quotes]\n",
    "    # remove empty quotes\n",
    "    quotes = list(filter(None, quotes))\n",
    "    # cut out very short ones as they often have no real meaning\n",
    "    quotes = [x for x in quotes if len(x) > 15]\n",
    "    # remove the titles of sections & citation-type stuff\n",
    "    quotes = [x for x in quotes if not x.isupper()]\n",
    "    quotes = [x for x in quotes if not x.replace('the', '').replace('of', '').replace('and', '').replace('II', '').istitle()]\n",
    "    quotes = [x for x in quotes if not set('Werke').issubset(x)]\n",
    "    # remove oddities\n",
    "    quotes = [x for x in quotes if x[0].isupper()]\n",
    "    quotes = [x.replace('.', '') for x in quotes]\n",
    "    quotes = [x for x in quotes if not x[-1].isupper()]\n",
    "    # add the source\n",
    "    quotes = [x+'\\n- '+ source for x in quotes]\n",
    "    return quotes\n",
    "\n",
    "def make_into_quotes_pdf(text, source):\n",
    "    # make the text into a list\n",
    "    quotes = sent_tokenize(text)\n",
    "    # remove unnecessary spaces\n",
    "    quotes = [x.strip() for x in quotes]\n",
    "    # remove empty quotes\n",
    "    quotes = list(filter(None, quotes))\n",
    "    # cut out very short ones as they often have no real meaning\n",
    "    quotes = [x for x in quotes if len(x) > 15]\n",
    "    # remove the titles of sections & citation-type stuff\n",
    "    quotes = [x for x in quotes if not x.isupper()]\n",
    "    quotes = [x for x in quotes if not x.replace('the', '').replace('of', '').replace('and', '').replace('II', '').istitle()]\n",
    "    quotes = [x for x in quotes if not set('Werke').issubset(x)]\n",
    "    # this looks at all quotes and removes headers/footers/page numbers that are sometimes in the text accidentally\n",
    "    holding = []\n",
    "    for quote in quotes:\n",
    "        for word in quote.split(' '):\n",
    "            if word.isupper() and len(word) > 2 and word != 'A' and word != 'OF':\n",
    "                quote = quote.replace(word, '')\n",
    "        quote = re.sub('[1234567890]', '', quote).replace(' s ', ' ').replace(' S ', ' ').replace('OF', '').replace(' ) ', '').replace(' ( ', '').replace(' , ', '').replace('  ', ' ').replace('- ', '-').replace('  ', ' ').replace('  ', ' ')\n",
    "        holding.append(quote)\n",
    "    # remove oddities\n",
    "    quotes = [x for x in holding if x[0].isupper()]\n",
    "    quotes = [x.replace('.', '') for x in quotes]\n",
    "    quotes = [x for x in quotes if not x[-1].isupper()]\n",
    "    quotes = [x for x in quotes if not set('~').issubset(x)]\n",
    "    quotes = [x for x in quotes if not set('=').issubset(x)]\n",
    "    # add the source\n",
    "    quotes = [x+'\\n- '+ source for x in quotes]\n",
    "    return quotes"
   ]
  },
  {
   "cell_type": "code",
   "execution_count": 2,
   "metadata": {},
   "outputs": [],
   "source": [
    "# import different texts, cut out their front and end matter\n",
    "hop1 = clean_text(get_Guten('http://www.gutenberg.org/files/51635/51635-0.txt'))[10545:-34150]\n",
    "hop2 = clean_text(get_Guten('http://www.gutenberg.org/files/51636/51636-0.txt'))[4489:-42865]\n",
    "hop3 = clean_text(get_Guten('http://www.gutenberg.org/files/58169/58169-0.txt'))[10068:-125524]\n",
    "enc_logic = clean_text(get_Guten('http://www.gutenberg.org/files/55108/55108-0.txt'))[36755:-134712]\n",
    "phil_of_nature = clean_text(get_text('.\\data\\Phil_of_Nature.txt'))[500403:-278448]"
   ]
  },
  {
   "cell_type": "code",
   "execution_count": 3,
   "metadata": {},
   "outputs": [
    {
     "output_type": "execute_result",
     "data": {
      "text/plain": "(['These sciences progress through a process of juxtaposition\\n- HoP 1',\n  'It is true that in Botany, Mineralogy, and so on, much is dependent on what was previously known, but by far the greatest part remains stationary and by means of fresh matter is merely added to without itself being affected by the addition\\n- HoP 1',\n  'Thus to take an example, elementary geometry in so far as it was created by Euclid, may from his time on be regarded as having no further history\\n- HoP 1',\n  'The history of Philosophy, on the other hand, shows neither the motionlessness of a complete, simple content, nor altogether the onward movement of a peaceful addition of new treasures to those already acquired\\n- HoP 1',\n  'It seems merely to afford the spectacle of ever-recurring changes in the whole, such as finally are no longer even connected by a common aim\\n- HoP 1',\n  'At this point appear these ordinary superficial ideas regarding the history of Philosophy which have to be referred to and corrected\\n- HoP 1',\n  'As regards these very current views, which are doubtless known to you, gentlemen, for indeed they are the reflections most likely to occur in one’s first crude thoughts on a history of Philosophy, I will shortly explain what requires explanation, and the explanation of the differences in philosophies will lead us further into the matter itself\\n- HoP 1',\n  'The History of Philosophy as an accumulation of Opinions\\n- HoP 1',\n  'History, at the first glance, includes in its aim the narration of the accidental circumstances of times, of races, and of individuals, treated impartially partly as regards their relation in time, and partly as to their content\\n- HoP 1',\n  'The appearance of contingency in time-succession is to be dealt with later on\\n- HoP 1'],\n 18328)"
     },
     "metadata": {},
     "execution_count": 3
    }
   ],
   "source": [
    "# turn these texts into quotes and assemble a list\n",
    "hop1_quotes = make_into_quotes_guten(hop1, 'HoP 1')\n",
    "hop2_quotes = make_into_quotes_guten(hop2, 'HoP 2')\n",
    "hop3_quotes = make_into_quotes_guten(hop3, 'HoP 3')\n",
    "enc_logic_quotes = make_into_quotes_guten(enc_logic, 'EnL')\n",
    "pon_quotes = make_into_quotes_pdf(phil_of_nature, 'PoN')\n",
    "\n",
    "master_q = hop1_quotes + hop2_quotes + hop3_quotes + enc_logic_quotes + pon_quotes\n",
    "\n",
    "# preview the quote list to see if there are any abberations\n",
    "random_range_start = np.random.randint(0, len(master_q))\n",
    "master_q[random_range_start:random_range_start + 10], len(master_q)"
   ]
  },
  {
   "cell_type": "code",
   "execution_count": 4,
   "metadata": {},
   "outputs": [],
   "source": [
    "# import the original set of quotes and prepare it for merging\n",
    "old_quotes = pd.read_csv('.\\data\\Original_Quote_sheet.csv')\n",
    "old_quotes = old_quotes.drop('Unnamed: 0', axis=1)\n",
    "old_quotes = old_quotes.rename(columns={'Select one from each column':'quotes'})\n",
    "old_quotes = old_quotes.iloc[3:]\n",
    "old_quotes['quotes'] = old_quotes['quotes'].str.capitalize()"
   ]
  },
  {
   "cell_type": "code",
   "execution_count": 5,
   "metadata": {},
   "outputs": [
    {
     "output_type": "execute_result",
     "data": {
      "text/plain": "(                                                quotes  length\n 148  Public opinion has common sense, but is infect...     106\n 149  Necessity appears to itself in the shape of fr...      59\n 150  It is the art of music which conducts us to th...      94\n 151  The tool lasts, while the immediate enjoyments...      75\n 152            No act of revenge is justified. - hegel      39\n 153  By the act of reflection something is altered ...     139\n 154  The man who wonders at nothing lives in a stat...      76\n 155  The fact is, no man can think for another, any...      84\n 156  Existence as determinate being is in essence b...      63\n 157  Amid the pressure of great events, a general p...      77,\n 14269,\n 18726)"
     },
     "metadata": {},
     "execution_count": 5
    }
   ],
   "source": [
    "# turn the list into a dataframe and weed out untweetabley-long quotes\n",
    "quote_df = pd.DataFrame(master_q, columns=['quotes'])\n",
    "quote_df = old_quotes.append(quote_df)\n",
    "quote_df['length'] = quote_df['quotes'].str.len()\n",
    "quote_tweetable = quote_df.loc[quote_df['length'] <= 240].copy()\n",
    "\n",
    "# preview again, see how many we have\n",
    "quote_tweetable.iloc[random_range_start:random_range_start + 10], len(quote_tweetable), len(quote_df)"
   ]
  },
  {
   "cell_type": "code",
   "execution_count": 6,
   "metadata": {},
   "outputs": [],
   "source": [
    "# export csv for use by tweeter program\n",
    "quote_tweetable.to_csv('Quote List.csv')"
   ]
  },
  {
   "cell_type": "code",
   "execution_count": null,
   "metadata": {},
   "outputs": [],
   "source": []
  },
  {
   "cell_type": "code",
   "execution_count": null,
   "metadata": {},
   "outputs": [],
   "source": []
  },
  {
   "cell_type": "code",
   "execution_count": 7,
   "metadata": {},
   "outputs": [
    {
     "output_type": "execute_result",
     "data": {
      "text/plain": "258"
     },
     "metadata": {},
     "execution_count": 7
    }
   ],
   "source": [
    "258"
   ]
  },
  {
   "cell_type": "code",
   "execution_count": 8,
   "metadata": {},
   "outputs": [
    {
     "output_type": "execute_result",
     "data": {
      "text/plain": "'r way, the self-motivation of the solar system is the sublation of the merely ideal nature of being-for-self, of mere spatiality of determination, of not-being-for-selÂ£ In the Notion, the negation of place does not 35 merely give rise to its re-instatement; the negation of not-being-for-self 282  \\x0cABSOLUTE MECHANICS  5  is a negation of the negation, ie an affirmation, so that what comes forth is real being-for-selÂ£ This is the abstractly logical determination of the transition. It is precisely the total development of being-for-self which is real being-for-self; this might be expressed as the freeing of the form of matter. The determinations of form which constitute the solar system are the determinations of matter itself, and these determinations constitute the being of matter, so that determination and being are essentially identical. This is of the nature of quality, for if the determination is removed here, being also disappears. This is the transition from mechanics to physics'"
     },
     "metadata": {},
     "execution_count": 8
    }
   ],
   "source": [
    "phil_of_nature[-1000:-1]"
   ]
  },
  {
   "cell_type": "code",
   "execution_count": 9,
   "metadata": {},
   "outputs": [
    {
     "output_type": "execute_result",
     "data": {
      "text/plain": "\"ending the notion of itself, as of the pure idea for which the idea is.  244. The Idea which is independent or for itself, when viewed on the point of this its unity with itself, is Perception or Intuition, and the percipient Idea is Nature. But as intuition the idea is, through an external 'reflection,' invested with the one-sided characteristic of immediacy, or of negation. Enjoying however an absolute liberty, the Idea does not merely pass over into life, or as finite cognition allow life to show in it: in its own absolute truth it resolves to let the 'moment' of its particularity, or of the first characterisation and other-being, the immediate idea, as its reflected image, go forth freely as Nature.         *       *       *       *       *  We have now returned to the notion of the Idea with which we began. This return to the beginning is also an advance. We began with Being, abstract Being: where we now are we also have the Idea as Being: but this Idea which has Being is Nature.\""
     },
     "metadata": {},
     "execution_count": 9
    }
   ],
   "source": [
    "enc_logic[-1000:-1]"
   ]
  },
  {
   "cell_type": "code",
   "execution_count": null,
   "metadata": {},
   "outputs": [],
   "source": []
  }
 ]
}