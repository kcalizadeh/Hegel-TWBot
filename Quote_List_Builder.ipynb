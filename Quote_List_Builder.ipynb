{
 "metadata": {
  "language_info": {
   "codemirror_mode": {
    "name": "ipython",
    "version": 3
   },
   "file_extension": ".py",
   "mimetype": "text/x-python",
   "name": "python",
   "nbconvert_exporter": "python",
   "pygments_lexer": "ipython3",
   "version": "3.6.9-final"
  },
  "orig_nbformat": 2,
  "kernelspec": {
   "name": "learn-env",
   "display_name": "learn-env"
  }
 },
 "nbformat": 4,
 "nbformat_minor": 2,
 "cells": [
  {
   "cell_type": "code",
   "execution_count": null,
   "metadata": {},
   "outputs": [],
   "source": [
    "import pandas as pd\n",
    "import requests\n",
    "import tweepy\n",
    "import numpy as np\n",
    "from nltk import sent_tokenize\n",
    "import re\n",
    "\n",
    "bad_char_list = ['1', '2', '3', '4', '5', '6', '7', '8', '9,' '0']\n",
    "\n",
    "def get_Guten(url):\n",
    "    # retrieve the source text\n",
    "    r = requests.get(url)\n",
    "    r.encoding = 'utf-8'\n",
    "    text = r.text\n",
    "    return text\n",
    "\n",
    "def get_text(path):\n",
    "    f = open('Phil_of_Nature.txt', 'r')\n",
    "    text = f.read()\n",
    "    f.close()\n",
    "    return text\n",
    "\n",
    "def clean_text(text):\n",
    "    # remove line break notation\n",
    "    text = text.replace(\"\\r\\n\", ' ')\n",
    "    text = text.replace('\\n', ' ')\n",
    "    # remove abbreviative periods and other unwanted periods and characters\n",
    "    # this helps reduce character count so we get more tweetable quotes\n",
    "    text = text.replace('_', '')\n",
    "    text = text.replace('[', '').replace(']', '')\n",
    "    text = text.replace('e.g.', 'eg')\n",
    "    text = text.replace('i.e.', 'ie')\n",
    "    text = text.replace('etc.', 'etc')\n",
    "    text = text.replace('&c.', '&c')\n",
    "    text = text.replace('viz.', 'viz')\n",
    "    text = text.replace('+', '')\n",
    "    text = text.replace('Â£', 'f')\n",
    "    text = text.replace('\\x0c', '')\n",
    "    text = text.replace('Â§', '')\n",
    "    return text\n",
    "\n",
    "def make_into_quotes_guten(text, source):\n",
    "    # make a list of quotes and clean them up\n",
    "    quotes = sent_tokenize(text)\n",
    "    # remove unnecessary spaces\n",
    "    quotes = [x.strip() for x in quotes]\n",
    "    # remove empty quotes\n",
    "    quotes = list(filter(None, quotes))\n",
    "    # cut out very short ones as they often have no real meaning\n",
    "    quotes = [x for x in quotes if len(x) > 15]\n",
    "    # remove the titles of sections & citation-type stuff\n",
    "    quotes = [x for x in quotes if not x.isupper()]\n",
    "    quotes = [x for x in quotes if not x.replace('the', '').replace('of', '').replace('and', '').replace('II', '').istitle()]\n",
    "    quotes = [x for x in quotes if not set('Werke').issubset(x)]\n",
    "    # remove oddities\n",
    "    quotes = [x for x in quotes if x[0].isupper()]\n",
    "    quotes = [x.replace('.', '') for x in quotes]\n",
    "    quotes = [x for x in quotes if not x[-1].isupper()]\n",
    "    # add the source\n",
    "    quotes = [x+'\\n- '+ source for x in quotes]\n",
    "    return quotes\n",
    "\n",
    "def make_into_quotes_pdf(text, source):\n",
    "    # make the text into a list\n",
    "    quotes = sent_tokenize(text)\n",
    "    # remove unnecessary spaces\n",
    "    quotes = [x.strip() for x in quotes]\n",
    "    # remove empty quotes\n",
    "    quotes = list(filter(None, quotes))\n",
    "    # cut out very short ones as they often have no real meaning\n",
    "    quotes = [x for x in quotes if len(x) > 15]\n",
    "    # remove the titles of sections & citation-type stuff\n",
    "    quotes = [x for x in quotes if not x.isupper()]\n",
    "    quotes = [x for x in quotes if not x.replace('the', '').replace('of', '').replace('and', '').replace('II', '').istitle()]\n",
    "    quotes = [x for x in quotes if not set('Werke').issubset(x)]\n",
    "    # this looks at all quotes and removes headers/footers/page numbers that are sometimes in the text accidentally\n",
    "    holding = []\n",
    "    for quote in quotes:\n",
    "        for word in quote.split(' '):\n",
    "            if word.isupper() and len(word) > 2 and word != 'A' and word != 'OF':\n",
    "                quote = quote.replace(word, '')\n",
    "        quote = re.sub('[1234567890]', '', quote).replace(' s ', ' ').replace(' S ', ' ').replace('OF', '').replace(' ) ', '').replace(' ( ', '').replace(' , ', '').replace('  ', ' ').replace('- ', '-').replace('  ', ' ').replace('  ', ' ')\n",
    "        holding.append(quote)\n",
    "    # remove oddities\n",
    "    quotes = [x for x in holding if x[0].isupper()]\n",
    "    quotes = [x.replace('.', '') for x in quotes]\n",
    "    quotes = [x for x in quotes if not x[-1].isupper()]\n",
    "    quotes = [x for x in quotes if not set('~').issubset(x)]\n",
    "    quotes = [x for x in quotes if not set('=').issubset(x)]\n",
    "    # add the source\n",
    "    quotes = [x+'\\n- '+ source for x in quotes]\n",
    "    return quotes"
   ]
  },
  {
   "cell_type": "code",
   "execution_count": 173,
   "metadata": {},
   "outputs": [],
   "source": [
    "# import different texts, cut out their front and end matter\n",
    "hop1 = clean_text(get_Guten('http://www.gutenberg.org/files/51635/51635-0.txt'))[10545:-34150]\n",
    "hop2 = clean_text(get_Guten('http://www.gutenberg.org/files/51636/51636-0.txt'))[4489:-42865]\n",
    "hop3 = clean_text(get_Guten('http://www.gutenberg.org/files/58169/58169-0.txt'))[10068:-125524]\n",
    "enc_logic = clean_text(get_Guten('http://www.gutenberg.org/files/55108/55108-0.txt'))[36755:-134712]\n",
    "phil_of_nature = clean_text(get_text('Phil_of_Nature.txt'))[499657:-278190]"
   ]
  },
  {
   "cell_type": "code",
   "execution_count": 179,
   "metadata": {},
   "outputs": [
    {
     "output_type": "execute_result",
     "data": {
      "text/plain": "(['If I say I am for myself, I not only am, but I negate in me all else, exclude it from me, in so far as it seems to me to be external\\n- HoP 1',\n  'As negation of other being, which is just negation in relation to me, being-for-self is the negation of negation and thus affirmation; and this is, as I call it, absolute negativity in which mediation indeed is present, but a mediation which is just as really taken away\\n- HoP 1',\n  'The principle of the One is altogether ideal and belongs entirely to thought, even though we wish to say that atoms exist\\n- HoP 1',\n  'The atom may be taken materially, but it is supersensuous, purely intellectual\\n- HoP 1',\n  'In our times, too, more especially through the instrumentality of Gassendi, this conception of atoms has been renewed\\n- HoP 1',\n  'The atoms of Leucippus are, however, not molecules, the small particles of Physics\\n- HoP 1',\n  'In Leucippus, according to Aristotle, (De gen et corr\\n- HoP 1',\n  'The One can neither be seen nor shown with magnifying glasses or measures, because it is an abstraction of thought; what is shown is always matter that is put together\\n- HoP 1',\n  'It is just as futile when, as in modern times, men try by the microscope to investigate the inmost part of the organism, the soul, and think they can discover it by means of sight and feeling\\n- HoP 1',\n  'Thus the principle of the One is altogether ideal, but not in the sense of being in thought or in the head alone, but in such a way that thought is made the true essence of things\\n- HoP 1'],\n 18320)"
     },
     "metadata": {},
     "execution_count": 179
    }
   ],
   "source": [
    "# turn these texts into quotes and assemble a list\n",
    "hop1_quotes = make_into_quotes_guten(hop1, 'HoP 1')\n",
    "hop2_quotes = make_into_quotes_guten(hop2, 'HoP 2')\n",
    "hop3_quotes = make_into_quotes_guten(hop3, 'HoP 3')\n",
    "enc_logic_quotes = make_into_quotes_guten(enc_logic, 'EnL')\n",
    "pon_quotes = make_into_quotes_pdf(phil_of_nature, 'PoN')\n",
    "\n",
    "master_q = hop1_quotes + hop2_quotes + hop3_quotes + enc_logic_quotes + pon_quotes\n",
    "\n",
    "# preview the quote list to see if there are any abberations\n",
    "random_range_start = np.random.randint(0, len(master_q))\n",
    "master_q[random_range_start:random_range_start + 10], len(master_q)"
   ]
  },
  {
   "cell_type": "code",
   "execution_count": 181,
   "metadata": {},
   "outputs": [],
   "source": [
    "# import the original set of quotes and prepare it for merging\n",
    "old_quotes = pd.read_csv('Original_Quote_sheet.csv')\n",
    "old_quotes = old_quotes.drop('Unnamed: 0', axis=1)\n",
    "old_quotes = old_quotes.rename(columns={'Select one from each column':'quotes'})\n",
    "old_quotes = old_quotes.iloc[3:]\n",
    "old_quotes['quotes'] = old_quotes['quotes'].str.capitalize()"
   ]
  },
  {
   "cell_type": "code",
   "execution_count": 182,
   "metadata": {},
   "outputs": [
    {
     "output_type": "execute_result",
     "data": {
      "text/plain": "(                                                 quotes  length\n 3157  If I consider the animal merely as externally ...   187.0\n 3158  But it is just as one-sided to say that the pl...   173.0\n 3160  Thus, for the first time, we reach the determi...   111.0\n 3161  These explanations are necessary here, since h...   208.0\n 3162  This is the meaning which is present when we r...   123.0\n 3165  So far, the ancients really got: it does not s...    61.0\n 3167  With this discovery of thought we conclude the...   101.0\n 3168  The profit to be derived from the first period...    72.0\n 3169  Some, indeed, think that there is still some s...   160.0\n 3170  Thought here has but few determinations—water,...   224.0,\n 14263,\n 18719)"
     },
     "metadata": {},
     "execution_count": 182
    }
   ],
   "source": [
    "# turn the list into a dataframe and weed out untweetabley-long quotes\n",
    "quote_df = pd.DataFrame(master_q, columns=['quotes'])\n",
    "quote_df = old_quotes.append(quote_df)\n",
    "quote_df['length'] = quote_df['quotes'].str.len()\n",
    "quote_tweetable = quote_df.loc[quote_df['length'] <= 240].copy()\n",
    "\n",
    "# preview again, see how many we have\n",
    "quote_tweetable.iloc[random_range_start:random_range_start + 10], len(quote_tweetable), len(quote_df)"
   ]
  },
  {
   "cell_type": "code",
   "execution_count": 177,
   "metadata": {},
   "outputs": [],
   "source": [
    "# export csv for use by tweeter program\n",
    "quote_tweetable.to_csv('Quote List.csv')"
   ]
  },
  {
   "cell_type": "code",
   "execution_count": null,
   "metadata": {},
   "outputs": [],
   "source": []
  },
  {
   "cell_type": "code",
   "execution_count": null,
   "metadata": {},
   "outputs": [],
   "source": []
  },
  {
   "cell_type": "code",
   "execution_count": null,
   "metadata": {},
   "outputs": [],
   "source": []
  }
 ]
}